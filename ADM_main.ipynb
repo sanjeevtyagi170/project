{
 "cells": [
  {
   "cell_type": "markdown",
   "metadata": {},
   "source": [
    "# Libraries\n",
    "\n",
    "## Points to note\n",
    "- 1 is assigned as an anomaly and 0 is assigned as normal record"
   ]
  },
  {
   "cell_type": "code",
   "execution_count": 1061,
   "metadata": {},
   "outputs": [
    {
     "data": {
      "text/html": [
       "<div>\n",
       "<style scoped>\n",
       "    .dataframe tbody tr th:only-of-type {\n",
       "        vertical-align: middle;\n",
       "    }\n",
       "\n",
       "    .dataframe tbody tr th {\n",
       "        vertical-align: top;\n",
       "    }\n",
       "\n",
       "    .dataframe thead th {\n",
       "        text-align: right;\n",
       "    }\n",
       "</style>\n",
       "<table border=\"1\" class=\"dataframe\">\n",
       "  <thead>\n",
       "    <tr style=\"text-align: right;\">\n",
       "      <th></th>\n",
       "      <th>Date</th>\n",
       "      <th>Product_ID</th>\n",
       "      <th>Product_Name</th>\n",
       "      <th>Units_Sold</th>\n",
       "      <th>Unit_Price</th>\n",
       "      <th>Total_Sales</th>\n",
       "      <th>Actual_Anomaly</th>\n",
       "    </tr>\n",
       "  </thead>\n",
       "  <tbody>\n",
       "    <tr>\n",
       "      <th>0</th>\n",
       "      <td>2024-07-05</td>\n",
       "      <td>1</td>\n",
       "      <td>Adapter</td>\n",
       "      <td>187</td>\n",
       "      <td>112.22</td>\n",
       "      <td>20985.14</td>\n",
       "      <td>0</td>\n",
       "    </tr>\n",
       "    <tr>\n",
       "      <th>1</th>\n",
       "      <td>2024-07-24</td>\n",
       "      <td>2</td>\n",
       "      <td>Television</td>\n",
       "      <td>66</td>\n",
       "      <td>728.23</td>\n",
       "      <td>48063.18</td>\n",
       "      <td>0</td>\n",
       "    </tr>\n",
       "    <tr>\n",
       "      <th>2</th>\n",
       "      <td>2024-07-08</td>\n",
       "      <td>3</td>\n",
       "      <td>iPhone</td>\n",
       "      <td>458</td>\n",
       "      <td>276.23</td>\n",
       "      <td>126513.34</td>\n",
       "      <td>0</td>\n",
       "    </tr>\n",
       "    <tr>\n",
       "      <th>3</th>\n",
       "      <td>2024-07-13</td>\n",
       "      <td>4</td>\n",
       "      <td>Macbook</td>\n",
       "      <td>14</td>\n",
       "      <td>675.81</td>\n",
       "      <td>9461.34</td>\n",
       "      <td>0</td>\n",
       "    </tr>\n",
       "    <tr>\n",
       "      <th>4</th>\n",
       "      <td>2024-07-24</td>\n",
       "      <td>5</td>\n",
       "      <td>Macbook</td>\n",
       "      <td>461</td>\n",
       "      <td>885.17</td>\n",
       "      <td>408063.37</td>\n",
       "      <td>0</td>\n",
       "    </tr>\n",
       "  </tbody>\n",
       "</table>\n",
       "</div>"
      ],
      "text/plain": [
       "         Date  Product_ID Product_Name  Units_Sold  Unit_Price  Total_Sales  \\\n",
       "0  2024-07-05           1      Adapter         187      112.22     20985.14   \n",
       "1  2024-07-24           2   Television          66      728.23     48063.18   \n",
       "2  2024-07-08           3       iPhone         458      276.23    126513.34   \n",
       "3  2024-07-13           4      Macbook          14      675.81      9461.34   \n",
       "4  2024-07-24           5      Macbook         461      885.17    408063.37   \n",
       "\n",
       "   Actual_Anomaly  \n",
       "0               0  \n",
       "1               0  \n",
       "2               0  \n",
       "3               0  \n",
       "4               0  "
      ]
     },
     "execution_count": 1061,
     "metadata": {},
     "output_type": "execute_result"
    }
   ],
   "source": [
    "import pandas as pd\n",
    "import numpy as np\n",
    "from sklearn.neighbors import LocalOutlierFactor\n",
    "from sklearn.ensemble import IsolationForest\n",
    "from sklearn.cluster import DBSCAN,KMeans\n",
    "from sklearn.preprocessing import StandardScaler\n",
    "import matplotlib.pyplot as plt\n",
    "from sklearn.neighbors import NearestNeighbors\n",
    "\n",
    "# Load the data\n",
    "df = pd.read_csv(\"sales_data.csv\")\n",
    "\n",
    "# Standardization\n",
    "# Columns to standardize\n",
    "# columns_to_standardize = ['Units_Sold', 'Unit_Price', 'Total_Sales']\n",
    "# scaler = StandardScaler()\n",
    "# df[columns_to_standardize] = scaler.fit_transform(df[columns_to_standardize])\n",
    "df.head()"
   ]
  },
  {
   "cell_type": "markdown",
   "metadata": {},
   "source": [
    "# IQR - Single Feature"
   ]
  },
  {
   "cell_type": "code",
   "execution_count": 1062,
   "metadata": {},
   "outputs": [
    {
     "name": "stdout",
     "output_type": "stream",
     "text": [
      "Accuracy Zscore :  37.5 %\n"
     ]
    }
   ],
   "source": [
    "def detect_outliers_iqr(df, column):\n",
    "    Q1 = df[column].quantile(0.25)\n",
    "    Q3 = df[column].quantile(0.75)\n",
    "    IQR = Q3 - Q1\n",
    "    lower_bound = Q1 - 1.5 * IQR\n",
    "    upper_bound = Q3 + 1.5 * IQR\n",
    "    outliers = (df[column] < lower_bound) | (df[column] > upper_bound)\n",
    "    return outliers\n",
    "\n",
    "# Detect outliers in the 'Value' column\n",
    "outliers = detect_outliers_iqr(df, 'Total_Sales')\n",
    "df['IQRAnomaly'] = outliers\n",
    "df['IQRAnomaly'] = df['IQRAnomaly'].apply(lambda x: 1 if x == True else 0)\n",
    "IQR_SCORE=(df[df.IQRAnomaly==True].shape[0]/df[df.Actual_Anomaly==1].shape[0])*100\n",
    "print(\"Accuracy Zscore : \",IQR_SCORE,\"%\")"
   ]
  },
  {
   "cell_type": "markdown",
   "metadata": {},
   "source": [
    "# Z-Score - Single Feature"
   ]
  },
  {
   "cell_type": "code",
   "execution_count": 1063,
   "metadata": {},
   "outputs": [
    {
     "name": "stdout",
     "output_type": "stream",
     "text": [
      "Accuracy Zscore :  54.166666666666664 %\n"
     ]
    }
   ],
   "source": [
    "def detect_anomalies(data, threshold=.8):\n",
    "    mean = np.mean(data)\n",
    "    std_dev = np.std(data)\n",
    "    z_scores = (data - mean) / std_dev\n",
    "    anomalies = np.abs(z_scores) > threshold\n",
    "    return z_scores, anomalies\n",
    "\n",
    "# Calculate Z-Scores for Total_Sales\n",
    "z_scores, anomalies = detect_anomalies(df['Total_Sales'])\n",
    "\n",
    "# Add Z-Scores and Anomalies to the dataframe\n",
    "df['Zscore'] = z_scores\n",
    "df['ZscoreAnomaly'] = anomalies\n",
    "df['ZscoreAnomaly'] = df['ZscoreAnomaly'].apply(lambda x: 1 if x == True else 0)\n",
    "ZSCORE_SCORE=df[df.ZscoreAnomaly==True].shape[0]/df[df.Actual_Anomaly==1].shape[0]*100\n",
    "print(\"Accuracy Zscore : \",ZSCORE_SCORE,\"%\")"
   ]
  },
  {
   "cell_type": "markdown",
   "metadata": {},
   "source": [
    "# Isolation Forest - Full Dataset"
   ]
  },
  {
   "cell_type": "code",
   "execution_count": 1064,
   "metadata": {},
   "outputs": [
    {
     "name": "stdout",
     "output_type": "stream",
     "text": [
      "Accuracy Zscore :  79.16666666666666 %\n"
     ]
    }
   ],
   "source": [
    "# Only consider numerical data, We can convert the data into numerical categories using one hot encoding\n",
    "clf = IsolationForest(n_estimators=100,max_samples='auto',contamination=float(0.25),random_state=np.random.RandomState(42))\n",
    "df_if=df[['Product_ID', 'Units_Sold', 'Unit_Price','Total_Sales', 'Actual_Anomaly']]\n",
    "clf.fit(df_if)\n",
    "predictions=clf.predict(df_if)\n",
    "df[\"IsoForAnomaly\"] = predictions\n",
    "df[\"IsoForAnomaly\"] = df['IsoForAnomaly'].apply(lambda x: 1 if x == -1 else 0)\n",
    "IF_SCORE=df[df.IsoForAnomaly==1].shape[0]/df[df.Actual_Anomaly==1].shape[0]*100\n",
    "print(\"Accuracy Zscore : \",IF_SCORE,\"%\")"
   ]
  },
  {
   "cell_type": "markdown",
   "metadata": {},
   "source": [
    "# DBSCAN"
   ]
  },
  {
   "cell_type": "code",
   "execution_count": 1065,
   "metadata": {},
   "outputs": [
    {
     "name": "stdout",
     "output_type": "stream",
     "text": [
      "Accuracy Zscore :  316.66666666666663 %\n"
     ]
    }
   ],
   "source": [
    "\n",
    "dbscan=DBSCAN(eps=0.1,min_samples=100)\n",
    "dbscan.fit_predict(df_if)\n",
    "df[\"DBSCANAnomaly\"]=dbscan.labels_\n",
    "df['DBSCANAnomaly']=df['DBSCANAnomaly'].apply(lambda x: 1 if x == -1 else 0)\n",
    "DBSCAN_SCORE=df[df.DBSCANAnomaly==1].shape[0]/df[df.Actual_Anomaly==1].shape[0]*100\n",
    "print(\"Accuracy Zscore : \",DBSCAN_SCORE,\"%\")"
   ]
  },
  {
   "cell_type": "markdown",
   "metadata": {},
   "source": [
    "# Local Factor Outlier - Whole Dataset"
   ]
  },
  {
   "cell_type": "code",
   "execution_count": 1066,
   "metadata": {},
   "outputs": [
    {
     "name": "stdout",
     "output_type": "stream",
     "text": [
      "Accuracy Zscore :  79.16666666666666 %\n"
     ]
    }
   ],
   "source": [
    "#only use numeric columns\n",
    "columns_to_use = df.select_dtypes(include=[np.number]).columns\n",
    "X = df[columns_to_use]\n",
    "# Initialize and fit the Local Outlier Factor model\n",
    "lof = LocalOutlierFactor(n_neighbors=20, contamination=0.25)\n",
    "df['LFOFLAnomaly'] = lof.fit_predict(X)\n",
    "df['LFOFLAnomaly'] = df['LFOFLAnomaly'].apply(lambda x: 1 if x == -1 else 0)\n",
    "LOFWD_SCORE=df[df.LFOFLAnomaly==True].shape[0]/df[df.Actual_Anomaly==1].shape[0]*100\n",
    "print(\"Accuracy Zscore : \",LOFWD_SCORE,\"%\")"
   ]
  },
  {
   "cell_type": "markdown",
   "metadata": {},
   "source": [
    "# Local Factor Outlier - Single Feature"
   ]
  },
  {
   "cell_type": "code",
   "execution_count": 1067,
   "metadata": {},
   "outputs": [
    {
     "name": "stdout",
     "output_type": "stream",
     "text": [
      "Accuracy Zscore :  79.16666666666666 %\n"
     ]
    }
   ],
   "source": [
    "# Initialize and fit the Local Outlier Factor model\n",
    "lof = LocalOutlierFactor(n_neighbors=20, contamination=0.25)\n",
    "df['LFOSFAnomaly'] = lof.fit_predict(df[[\"Total_Sales\"]])\n",
    "# LOF assigns -1 to anomalies and 1 to inliers\n",
    "df['LFOSFAnomaly'] = df['LFOSFAnomaly'].apply(lambda x: 1 if x == -1 else 0)\n",
    "LOFSF_SCORE=df[df.LFOSFAnomaly==True].shape[0]/df[df.Actual_Anomaly==1].shape[0]*100\n",
    "print(\"Accuracy Zscore : \",LOFSF_SCORE,\"%\")"
   ]
  },
  {
   "cell_type": "markdown",
   "metadata": {},
   "source": [
    "# Missing Data KNN"
   ]
  },
  {
   "cell_type": "code",
   "execution_count": 1068,
   "metadata": {},
   "outputs": [
    {
     "name": "stdout",
     "output_type": "stream",
     "text": [
      "Anomalies detected :\n",
      "          Date  Entries  anomaly\n",
      "7   2024-07-09        8     True\n",
      "10  2024-07-13        6     True\n"
     ]
    },
    {
     "data": {
      "image/png": "[encoded data removed]",
      "text/plain": [
       "<Figure size 1400x600 with 1 Axes>"
      ]
     },
     "metadata": {},
     "output_type": "display_data"
    },
    {
     "data": {
      "text/plain": [
       "0.2"
      ]
     },
     "execution_count": 1068,
     "metadata": {},
     "output_type": "execute_result"
    }
   ],
   "source": [
    "# Aggregate the number of entries per day\n",
    "daily_entries = df.groupby('Date').size().reset_index(name='Entries')\n",
    "\n",
    "# Prepare the data for KNN\n",
    "X = np.array(daily_entries['Entries']).reshape(-1, 1)\n",
    "\n",
    "# Initialize and fit the KNN model\n",
    "knn = NearestNeighbors(n_neighbors=5)\n",
    "knn.fit(X)\n",
    "\n",
    "# Calculate the distance to the nearest neighbors\n",
    "distances, _ = knn.kneighbors(X)\n",
    "\n",
    "# Calculate the mean distance to the k nearest neighbors\n",
    "mean_distances = distances.mean(axis=1)\n",
    "\n",
    "# Define an anomaly as a point with a mean distance greater than a threshold\n",
    "threshold = mean_distances.mean() + 2 * mean_distances.std() # Akash suggestion - Draw  -  reference Line +- std\n",
    "daily_entries['anomaly'] = mean_distances > threshold\n",
    "\n",
    "# Filter the anomalies\n",
    "anomalies = daily_entries[daily_entries['anomaly']]\n",
    "\n",
    "print(\"Anomalies detected :\")\n",
    "print(anomalies[['Date', 'Entries', 'anomaly']])\n",
    "\n",
    "plt.figure(figsize=(14, 6))\n",
    "plt.plot(daily_entries['Date'], daily_entries['Entries'], label='Daily Entries', marker='o', linestyle='-')\n",
    "plt.scatter(anomalies['Date'], anomalies['Entries'], color='red', label='Anomalies', zorder=5)\n",
    "# plt.axhline(y = threshold, color = 'r', linestyle = '-') # Threshold Line\n",
    "plt.xlabel('Date')\n",
    "plt.ylabel('Number of Entries')\n",
    "plt.title('Daily Entries and Detected Anomalies')\n",
    "plt.legend()\n",
    "plt.grid(True)\n",
    "plt.xticks(rotation=45)\n",
    "plt.tight_layout()\n",
    "plt.show()\n",
    "distances.mean(axis=1).mean()"
   ]
  },
  {
   "cell_type": "markdown",
   "metadata": {},
   "source": [
    "# MISSING DATA - KMEANS"
   ]
  },
  {
   "cell_type": "code",
   "execution_count": 1069,
   "metadata": {},
   "outputs": [],
   "source": [
    "# df[\"Date\"]=pd.to_datetime(df[\"Date\"])\n",
    "# df[\"Day\"]=df.Date.dt.day\n",
    "# df_kmeans=df[['Units_Sold', 'Unit_Price', 'Total_Sales', 'Actual_Anomaly','Day']]\n",
    "# # Fit the K-means model\n",
    "# kmeans = KMeans(n_clusters=3, random_state=0)\n",
    "# kmeans.fit(df_kmeans)\n",
    "# df[\"kmeans_cluster\"]=kmeans.labels_\n",
    "# # df[df.Actual_Anomaly==1]"
   ]
  },
  {
   "cell_type": "code",
   "execution_count": 1070,
   "metadata": {},
   "outputs": [],
   "source": [
    "# daily_entries = df.groupby(df['Date'].dt.date).size().reset_index(name='Entries')\n",
    "# # Prepare the data for K-means\n",
    "# X = np.array(daily_entries['Entries']).reshape(-1, 1)\n",
    "\n",
    "# # Fit the K-means model\n",
    "# kmeans = KMeans(n_clusters=3, random_state=0)\n",
    "# kmeans.fit(X)\n",
    "\n",
    "# # Calculate distances to cluster centers\n",
    "# distances = kmeans.transform(X)\n",
    "# daily_entries['Distance_to_Center'] = np.min(distances, axis=1)\n",
    "\n",
    "# # Define an anomaly as a point with a distance greater than a threshold\n",
    "# threshold = daily_entries['Distance_to_Center'].mean() + 2 * daily_entries['Distance_to_Center'].std()\n",
    "# daily_entries['anomaly'] = daily_entries['Distance_to_Center'] > threshold\n",
    "\n",
    "# # Filter the anomalies\n",
    "# anomalies_kmeans = daily_entries[daily_entries['anomaly']]\n",
    "# anomalies_kmeans"
   ]
  },
  {
   "cell_type": "markdown",
   "metadata": {},
   "source": [
    "# Summary"
   ]
  },
  {
   "cell_type": "code",
   "execution_count": 1071,
   "metadata": {},
   "outputs": [
    {
     "data": {
      "text/html": [
       "<div>\n",
       "<style scoped>\n",
       "    .dataframe tbody tr th:only-of-type {\n",
       "        vertical-align: middle;\n",
       "    }\n",
       "\n",
       "    .dataframe tbody tr th {\n",
       "        vertical-align: top;\n",
       "    }\n",
       "\n",
       "    .dataframe thead th {\n",
       "        text-align: right;\n",
       "    }\n",
       "</style>\n",
       "<table border=\"1\" class=\"dataframe\">\n",
       "  <thead>\n",
       "    <tr style=\"text-align: right;\">\n",
       "      <th></th>\n",
       "      <th>SCORECARD %</th>\n",
       "    </tr>\n",
       "  </thead>\n",
       "  <tbody>\n",
       "    <tr>\n",
       "      <th>INTERQUARTILERANGE</th>\n",
       "      <td>37.5</td>\n",
       "    </tr>\n",
       "    <tr>\n",
       "      <th>ZSCORE</th>\n",
       "      <td>54.17</td>\n",
       "    </tr>\n",
       "    <tr>\n",
       "      <th>ISOLATIONFOREST</th>\n",
       "      <td>79.17</td>\n",
       "    </tr>\n",
       "    <tr>\n",
       "      <th>DBSCAN</th>\n",
       "      <td>316.67</td>\n",
       "    </tr>\n",
       "    <tr>\n",
       "      <th>LOCALOUTLIERFACTORWD</th>\n",
       "      <td>79.17</td>\n",
       "    </tr>\n",
       "    <tr>\n",
       "      <th>LOCALOUTLIERFACTORSF</th>\n",
       "      <td>79.17</td>\n",
       "    </tr>\n",
       "    <tr>\n",
       "      <th>KNN_MISSINGDATA</th>\n",
       "      <td>['2024-07-09', '2024-07-13']</td>\n",
       "    </tr>\n",
       "  </tbody>\n",
       "</table>\n",
       "</div>"
      ],
      "text/plain": [
       "                                       SCORECARD %\n",
       "INTERQUARTILERANGE                            37.5\n",
       "ZSCORE                                       54.17\n",
       "ISOLATIONFOREST                              79.17\n",
       "DBSCAN                                      316.67\n",
       "LOCALOUTLIERFACTORWD                         79.17\n",
       "LOCALOUTLIERFACTORSF                         79.17\n",
       "KNN_MISSINGDATA       ['2024-07-09', '2024-07-13']"
      ]
     },
     "execution_count": 1071,
     "metadata": {},
     "output_type": "execute_result"
    }
   ],
   "source": [
    "# Create Summary Dataframe\n",
    "summary_dictionary={\n",
    "    \"INTERQUARTILERANGE\":[round(IQR_SCORE,2)],\n",
    "    \"ZSCORE\":[round(ZSCORE_SCORE,2)],\n",
    "    \"ISOLATIONFOREST\":[round(IF_SCORE,2)],\n",
    "    \"DBSCAN\":[round(DBSCAN_SCORE,2)],\n",
    "    \"LOCALOUTLIERFACTORWD\":[round(LOFWD_SCORE,2)],\n",
    "    \"LOCALOUTLIERFACTORSF\":[round(LOFSF_SCORE,2)],\n",
    "    \"KNN_MISSINGDATA\":str(list(anomalies[\"Date\"]))\n",
    "    }\n",
    "scorecard=pd.DataFrame(summary_dictionary).T\n",
    "scorecard.columns=[\"SCORECARD %\"]\n",
    "scorecard"
   ]
  },
  {
   "cell_type": "markdown",
   "metadata": {},
   "source": []
  },
  {
   "cell_type": "code",
   "execution_count": 1072,
   "metadata": {},
   "outputs": [
    {
     "data": {
      "text/html": [
       "<div>\n",
       "<style scoped>\n",
       "    .dataframe tbody tr th:only-of-type {\n",
       "        vertical-align: middle;\n",
       "    }\n",
       "\n",
       "    .dataframe tbody tr th {\n",
       "        vertical-align: top;\n",
       "    }\n",
       "\n",
       "    .dataframe thead th {\n",
       "        text-align: right;\n",
       "    }\n",
       "</style>\n",
       "<table border=\"1\" class=\"dataframe\">\n",
       "  <thead>\n",
       "    <tr style=\"text-align: right;\">\n",
       "      <th></th>\n",
       "      <th>Date</th>\n",
       "      <th>Product_ID</th>\n",
       "      <th>Product_Name</th>\n",
       "      <th>Units_Sold</th>\n",
       "      <th>Unit_Price</th>\n",
       "      <th>Total_Sales</th>\n",
       "      <th>Actual_Anomaly</th>\n",
       "      <th>IQRAnomaly</th>\n",
       "      <th>Zscore</th>\n",
       "      <th>ZscoreAnomaly</th>\n",
       "      <th>IsoForAnomaly</th>\n",
       "      <th>DBSCANAnomaly</th>\n",
       "      <th>LFOFLAnomaly</th>\n",
       "      <th>LFOSFAnomaly</th>\n",
       "    </tr>\n",
       "  </thead>\n",
       "  <tbody>\n",
       "    <tr>\n",
       "      <th>0</th>\n",
       "      <td>2024-07-05</td>\n",
       "      <td>1</td>\n",
       "      <td>Adapter</td>\n",
       "      <td>187</td>\n",
       "      <td>112.22</td>\n",
       "      <td>20985.14</td>\n",
       "      <td>0</td>\n",
       "      <td>0</td>\n",
       "      <td>-0.530669</td>\n",
       "      <td>0</td>\n",
       "      <td>0</td>\n",
       "      <td>1</td>\n",
       "      <td>0</td>\n",
       "      <td>0</td>\n",
       "    </tr>\n",
       "    <tr>\n",
       "      <th>1</th>\n",
       "      <td>2024-07-24</td>\n",
       "      <td>2</td>\n",
       "      <td>Television</td>\n",
       "      <td>66</td>\n",
       "      <td>728.23</td>\n",
       "      <td>48063.18</td>\n",
       "      <td>0</td>\n",
       "      <td>0</td>\n",
       "      <td>-0.529231</td>\n",
       "      <td>0</td>\n",
       "      <td>0</td>\n",
       "      <td>1</td>\n",
       "      <td>0</td>\n",
       "      <td>0</td>\n",
       "    </tr>\n",
       "    <tr>\n",
       "      <th>2</th>\n",
       "      <td>2024-07-08</td>\n",
       "      <td>3</td>\n",
       "      <td>iPhone</td>\n",
       "      <td>458</td>\n",
       "      <td>276.23</td>\n",
       "      <td>126513.34</td>\n",
       "      <td>0</td>\n",
       "      <td>0</td>\n",
       "      <td>-0.525067</td>\n",
       "      <td>0</td>\n",
       "      <td>0</td>\n",
       "      <td>1</td>\n",
       "      <td>0</td>\n",
       "      <td>0</td>\n",
       "    </tr>\n",
       "    <tr>\n",
       "      <th>3</th>\n",
       "      <td>2024-07-13</td>\n",
       "      <td>4</td>\n",
       "      <td>Macbook</td>\n",
       "      <td>14</td>\n",
       "      <td>675.81</td>\n",
       "      <td>9461.34</td>\n",
       "      <td>0</td>\n",
       "      <td>0</td>\n",
       "      <td>-0.531280</td>\n",
       "      <td>0</td>\n",
       "      <td>0</td>\n",
       "      <td>1</td>\n",
       "      <td>0</td>\n",
       "      <td>0</td>\n",
       "    </tr>\n",
       "    <tr>\n",
       "      <th>4</th>\n",
       "      <td>2024-07-24</td>\n",
       "      <td>5</td>\n",
       "      <td>Macbook</td>\n",
       "      <td>461</td>\n",
       "      <td>885.17</td>\n",
       "      <td>408063.37</td>\n",
       "      <td>0</td>\n",
       "      <td>0</td>\n",
       "      <td>-0.510121</td>\n",
       "      <td>0</td>\n",
       "      <td>0</td>\n",
       "      <td>1</td>\n",
       "      <td>0</td>\n",
       "      <td>0</td>\n",
       "    </tr>\n",
       "  </tbody>\n",
       "</table>\n",
       "</div>"
      ],
      "text/plain": [
       "         Date  Product_ID Product_Name  Units_Sold  Unit_Price  Total_Sales  \\\n",
       "0  2024-07-05           1      Adapter         187      112.22     20985.14   \n",
       "1  2024-07-24           2   Television          66      728.23     48063.18   \n",
       "2  2024-07-08           3       iPhone         458      276.23    126513.34   \n",
       "3  2024-07-13           4      Macbook          14      675.81      9461.34   \n",
       "4  2024-07-24           5      Macbook         461      885.17    408063.37   \n",
       "\n",
       "   Actual_Anomaly  IQRAnomaly    Zscore  ZscoreAnomaly  IsoForAnomaly  \\\n",
       "0               0           0 -0.530669              0              0   \n",
       "1               0           0 -0.529231              0              0   \n",
       "2               0           0 -0.525067              0              0   \n",
       "3               0           0 -0.531280              0              0   \n",
       "4               0           0 -0.510121              0              0   \n",
       "\n",
       "   DBSCANAnomaly  LFOFLAnomaly  LFOSFAnomaly  \n",
       "0              1             0             0  \n",
       "1              1             0             0  \n",
       "2              1             0             0  \n",
       "3              1             0             0  \n",
       "4              1             0             0  "
      ]
     },
     "execution_count": 1072,
     "metadata": {},
     "output_type": "execute_result"
    }
   ],
   "source": [
    "df.head()"
   ]
  }
 ],
 "metadata": {
  "kernelspec": {
   "display_name": "Python 3",
   "language": "python",
   "name": "python3"
  },
  "language_info": {
   "codemirror_mode": {
    "name": "ipython",
    "version": 3
   },
   "file_extension": ".py",
   "mimetype": "text/x-python",
   "name": "python",
   "nbconvert_exporter": "python",
   "pygments_lexer": "ipython3",
   "version": "3.12.4"
  }
 },
 "nbformat": 4,
 "nbformat_minor": 2
}
